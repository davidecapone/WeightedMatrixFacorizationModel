{
 "cells": [
  {
   "cell_type": "markdown",
   "metadata": {},
   "source": [
    "# Weighted Matrix Factorization for Recommender Systems\n",
    "\n",
    "In this notebook, after looking at the datasets, we build the feedback matrix and finally train the Weighted Matrix Factorization Model (that is implemented in the *src/wmfact.py* class).\n",
    "\n",
    "We use the two different strategies to minimise the loss function, WALS and SGD."
   ]
  },
  {
   "cell_type": "code",
   "execution_count": 1,
   "metadata": {},
   "outputs": [],
   "source": [
    "%load_ext autoreload\n",
    "%autoreload 2\n",
    "\n",
    "import numpy as np\n",
    "import pandas as pd\n",
    "import seaborn as sns\n",
    "import matplotlib.pyplot as plt\n",
    "from src.wmfact import WeightedMatrixFactorization"
   ]
  },
  {
   "cell_type": "markdown",
   "metadata": {},
   "source": [
    "## Data loading and preprocessing\n",
    "In this section, we load the rating and movie data from CSV files and preprocess it to create the feedback matrix.\n",
    "\n",
    "The ratings dataset includes three columns (user_id, movie_id, rating). Each row represents a single rating given by a user to a particular movie.\n",
    "The movies dataset, instead, contains information about the movies themselves (movie_id, title). Each row represents a single movie in the dataset."
   ]
  },
  {
   "cell_type": "code",
   "execution_count": 17,
   "metadata": {},
   "outputs": [
    {
     "name": "stdout",
     "output_type": "stream",
     "text": [
      "Ratings: 100000\n",
      "Movies: 1682\n",
      "Users: 943\n"
     ]
    }
   ],
   "source": [
    "# Read data\n",
    "ratings = pd.read_csv('data/ratings.csv')\n",
    "movies = pd.read_csv('data/movies.csv')\n",
    "\n",
    "n_ratings = ratings.shape[0]\n",
    "n_movies = movies.shape[0]\n",
    "n_users = ratings.user_id.nunique()\n",
    "\n",
    "print(f'Ratings: {n_ratings}')\n",
    "print(f'Movies: {n_movies}')\n",
    "print(f'Users: {n_users}')"
   ]
  },
  {
   "cell_type": "markdown",
   "metadata": {},
   "source": [
    "There are 100000 ratings for 1682 movies and 943 users. The feedback matrix will have $(943\\times1682)$ shape."
   ]
  },
  {
   "cell_type": "code",
   "execution_count": 18,
   "metadata": {},
   "outputs": [
    {
     "name": "stdout",
     "output_type": "stream",
     "text": [
      "Sparsity: 6.30%\n"
     ]
    }
   ],
   "source": [
    "# compute the sparsity of the data matrix:\n",
    "sparsity = n_ratings / (n_movies * n_users)\n",
    "print(f\"Sparsity: {sparsity:.2%}\")"
   ]
  },
  {
   "cell_type": "markdown",
   "metadata": {},
   "source": [
    "It is a **sparse matrix**: only $6.30\\%$ of the user-item ratings have a value."
   ]
  },
  {
   "cell_type": "markdown",
   "metadata": {},
   "source": [
    "### Create Feedback Matrix\n",
    "In this section, we create a feedback matrix from the ratings data. The feedback matrix represents the ratings given by users for different movies (the missing ratings are encoded with *nan*)."
   ]
  },
  {
   "cell_type": "code",
   "execution_count": 19,
   "metadata": {},
   "outputs": [
    {
     "data": {
      "text/plain": [
       "array([[ 5.,  3.,  4., ..., nan, nan, nan],\n",
       "       [ 4., nan, nan, ..., nan, nan, nan],\n",
       "       [nan, nan, nan, ..., nan, nan, nan],\n",
       "       ...,\n",
       "       [ 5., nan, nan, ..., nan, nan, nan],\n",
       "       [nan, nan, nan, ..., nan, nan, nan],\n",
       "       [nan,  5., nan, ..., nan, nan, nan]])"
      ]
     },
     "metadata": {},
     "output_type": "display_data"
    },
    {
     "name": "stdout",
     "output_type": "stream",
     "text": [
      "feedbacks matrix shape:  (943, 1682)\n"
     ]
    }
   ],
   "source": [
    "feedbacks = ratings.pivot_table(values='rating', index=['user_id'], columns=['movie_id']).values\n",
    "display(feedbacks)\n",
    "print(\"feedbacks matrix shape: \", feedbacks.shape)\n",
    "\n",
    "# save the feedbacks matrix\n",
    "np.save('data/feedbacks.npy', feedbacks)"
   ]
  },
  {
   "cell_type": "markdown",
   "metadata": {},
   "source": [
    "## Weighted Matrix Factorization model\n",
    "\n",
    "The Weighted Matrix Factorization model aims to factorize the sparse feedback matrix into low-rank user and item matrices, capturing underlying patterns in the data to predict missing ratings. In this implementation, we utilize the Weighted Alternating Least Squares (WALS) algorithm, which iteratively updates user and item embeddings to minimize the reconstruction error of observed ratings, while applying regularization to prevent overfitting.\n",
    "\n",
    "- **n_iter**: The number of iterations for model fitting. Higher values may lead to better convergence but also increase computational cost.\n",
    "- **n_latents**: The number of latent factors. A higher number allows the model to capture more complex patterns but may also increase the risk of overfitting.\n",
    "- **lambda_reg**: The regularization parameter λ. It controls the extent of regularization applied to the model. Higher values of λ lead to stronger regularization.\n"
   ]
  },
  {
   "cell_type": "markdown",
   "metadata": {},
   "source": [
    "### Solving the optimisation using WALS method"
   ]
  },
  {
   "cell_type": "code",
   "execution_count": 26,
   "metadata": {},
   "outputs": [
    {
     "name": "stdout",
     "output_type": "stream",
     "text": [
      "* Fitting the model with wals method: n_iter = 16, n_latents = 270, lambda_reg = 0.02 *\n"
     ]
    },
    {
     "name": "stderr",
     "output_type": "stream",
     "text": [
      "100%|██████████| 16/16 [59:25<00:00, 222.87s/it, loss=3018.48]  "
     ]
    },
    {
     "name": "stdout",
     "output_type": "stream",
     "text": [
      "\n",
      "-> Model fitting completed in 3565.96 seconds\n",
      "\n",
      "-> Model saved to models/wmf_wals_nlat270_niter16_lambdareg0.02.pkl\n",
      "-> History saved to models/wmf_wals_nlat270_niter16_lambdareg0.02.csv\n",
      "\n"
     ]
    },
    {
     "name": "stderr",
     "output_type": "stream",
     "text": [
      "\n"
     ]
    }
   ],
   "source": [
    "# hyperparameters:\n",
    "params = { 'n_latents': 270, 'n_iter': 16, 'lambda_reg': 0.02 }\n",
    "\n",
    "# fit the model using WALS:\n",
    "model = WeightedMatrixFactorization(feedbacks, **params)\n",
    "history_wals = model.fit(method='wals', seed=42, dump=True)\n",
    "\n",
    "# 'history_wals' will contain the model's loss history at each iteration."
   ]
  },
  {
   "cell_type": "markdown",
   "metadata": {},
   "source": [
    "### Solving the optimisation using SGD method (same hyperparams)\n",
    "In the context of matrix factorization, SGD aims to minimize the difference between the observed ratings and the predicted ratings by iteratively updating the user and item matrices.\n",
    "\n",
    "- For each observed user-item pair:\n",
    "    - Compute the predicted rating using the dot product of the corresponding user and item vectors.\n",
    "    - Compute the error between the observed rating and the predicted rating.\n",
    "    - Update the user and item vectors using the gradient of the error with respect to the parameters (user and item vectors).\n",
    "    - Repeat the process for a fixed number of iterations or until convergence criteria are met."
   ]
  },
  {
   "cell_type": "code",
   "execution_count": 27,
   "metadata": {},
   "outputs": [
    {
     "name": "stdout",
     "output_type": "stream",
     "text": [
      "* Fitting the model with sgd method: n_iter = 16, n_latents = 270, lambda_reg = 0.02 *\n",
      "Epoch 16/16, User 943/943, Item 1330/1682, Loss: 4852.4475\n",
      "-> Model fitting completed in 120.34 seconds\n"
     ]
    }
   ],
   "source": [
    "# fit the model using SGD:\n",
    "history_sgd = model.fit(method='sgd', seed=42, dump=False)"
   ]
  },
  {
   "cell_type": "markdown",
   "metadata": {},
   "source": [
    "### Model evaluation"
   ]
  },
  {
   "cell_type": "code",
   "execution_count": 28,
   "metadata": {},
   "outputs": [
    {
     "data": {
      "image/png": "[encoded data removed]",
      "text/plain": [
       "<Figure size 870x627 with 1 Axes>"
      ]
     },
     "metadata": {},
     "output_type": "display_data"
    }
   ],
   "source": [
    "# plot loss from history:\n",
    "sns.set(rc={'figure.figsize':(8.7,6.27)})\n",
    "sns.set_context('paper', font_scale=1.3, rc={\"lines.linewidth\": 2.3})\n",
    "lists = sorted(history_wals.items())\n",
    "x, y = zip(*lists)\n",
    "sns.lineplot(\n",
    "  x=list(history_wals.keys()), \n",
    "  y=list(history_wals.values())\n",
    ")\n",
    "plt.xlabel(\"Iterations\")\n",
    "plt.ylabel(\"Loss\")\n",
    "plt.title(\"Loss for WALS\")\n",
    "plt.show()"
   ]
  },
  {
   "cell_type": "markdown",
   "metadata": {},
   "source": [
    "### Let's take an example:"
   ]
  },
  {
   "cell_type": "code",
   "execution_count": 30,
   "metadata": {},
   "outputs": [
    {
     "name": "stdout",
     "output_type": "stream",
     "text": [
      "Real rating:  1.0\n",
      "Predicted rating:  1.028594179715258\n"
     ]
    }
   ],
   "source": [
    "preds = model.predict_all()\n",
    "\n",
    "user_id = 14\n",
    "movie_id = 17\n",
    "\n",
    "print(\"Real rating: \", feedbacks[user_id, movie_id])\n",
    "print(\"Predicted rating: \", preds[user_id, movie_id])"
   ]
  }
 ],
 "metadata": {
  "kernelspec": {
   "display_name": "base",
   "language": "python",
   "name": "python3"
  },
  "language_info": {
   "codemirror_mode": {
    "name": "ipython",
    "version": 3
   },
   "file_extension": ".py",
   "mimetype": "text/x-python",
   "name": "python",
   "nbconvert_exporter": "python",
   "pygments_lexer": "ipython3",
   "version": "3.11.5"
  }
 },
 "nbformat": 4,
 "nbformat_minor": 2
}
