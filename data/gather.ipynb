{
 "cells": [
  {
   "cell_type": "code",
   "execution_count": 19,
   "metadata": {},
   "outputs": [
    {
     "data": {
      "text/html": [
       "<div>\n",
       "<style scoped>\n",
       "    .dataframe tbody tr th:only-of-type {\n",
       "        vertical-align: middle;\n",
       "    }\n",
       "\n",
       "    .dataframe tbody tr th {\n",
       "        vertical-align: top;\n",
       "    }\n",
       "\n",
       "    .dataframe thead th {\n",
       "        text-align: right;\n",
       "    }\n",
       "</style>\n",
       "<table border=\"1\" class=\"dataframe\">\n",
       "  <thead>\n",
       "    <tr style=\"text-align: right;\">\n",
       "      <th></th>\n",
       "      <th>asin</th>\n",
       "      <th>user_id</th>\n",
       "      <th>rating</th>\n",
       "      <th>timestamp</th>\n",
       "    </tr>\n",
       "  </thead>\n",
       "  <tbody>\n",
       "    <tr>\n",
       "      <th>4</th>\n",
       "      <td>0001393774</td>\n",
       "      <td>A3SNL7UJY7GWBI</td>\n",
       "      <td>5.0</td>\n",
       "      <td>1455148800</td>\n",
       "    </tr>\n",
       "    <tr>\n",
       "      <th>5</th>\n",
       "      <td>0001393774</td>\n",
       "      <td>A3478QRKQDOPQ2</td>\n",
       "      <td>5.0</td>\n",
       "      <td>1448668800</td>\n",
       "    </tr>\n",
       "    <tr>\n",
       "      <th>15</th>\n",
       "      <td>0001393774</td>\n",
       "      <td>A1DOF5GHOWGMW6</td>\n",
       "      <td>5.0</td>\n",
       "      <td>1415059200</td>\n",
       "    </tr>\n",
       "    <tr>\n",
       "      <th>31</th>\n",
       "      <td>0001393774</td>\n",
       "      <td>A12R54MKO17TW0</td>\n",
       "      <td>5.0</td>\n",
       "      <td>1326067200</td>\n",
       "    </tr>\n",
       "    <tr>\n",
       "      <th>36</th>\n",
       "      <td>0001393774</td>\n",
       "      <td>AEKGGV851HY3K</td>\n",
       "      <td>5.0</td>\n",
       "      <td>1130803200</td>\n",
       "    </tr>\n",
       "  </tbody>\n",
       "</table>\n",
       "</div>"
      ],
      "text/plain": [
       "          asin         user_id  rating   timestamp\n",
       "4   0001393774  A3SNL7UJY7GWBI     5.0  1455148800\n",
       "5   0001393774  A3478QRKQDOPQ2     5.0  1448668800\n",
       "15  0001393774  A1DOF5GHOWGMW6     5.0  1415059200\n",
       "31  0001393774  A12R54MKO17TW0     5.0  1326067200\n",
       "36  0001393774   AEKGGV851HY3K     5.0  1130803200"
      ]
     },
     "execution_count": 19,
     "metadata": {},
     "output_type": "execute_result"
    }
   ],
   "source": [
    "import pandas as pd\n",
    "\n",
    "# read csv with header [asin, user_id, rating, timestamp]:\n",
    "ratings = pd.read_csv('./Amazon Review Data (2018)/CDs_and_Vinyl.csv')\n",
    "ratings.columns = ['asin', 'user_id', 'rating', 'timestamp']\n",
    "\n",
    "# select only the users that have rated more than 10 products\n",
    "ratings = ratings.groupby(\"user_id\").filter(lambda x: len(x) >= 10)\n",
    "ratings.head()"
   ]
  },
  {
   "cell_type": "code",
   "execution_count": 27,
   "metadata": {},
   "outputs": [
    {
     "name": "stdout",
     "output_type": "stream",
     "text": [
      "Number of users = 51764 | Number of products = 293534\n"
     ]
    }
   ],
   "source": [
    "# counting how many users and products we have:\n",
    "n_users = ratings.user_id.unique().shape[0]\n",
    "n_items = ratings.asin.unique().shape[0]\n",
    "print('Number of users = ' + str(n_users) + ' | Number of products = ' + str(n_items))"
   ]
  },
  {
   "cell_type": "code",
   "execution_count": 21,
   "metadata": {},
   "outputs": [],
   "source": [
    "ratings.to_csv('./ratings.csv', index=False)"
   ]
  },
  {
   "cell_type": "code",
   "execution_count": 23,
   "metadata": {},
   "outputs": [
    {
     "data": {
      "text/html": [
       "<div>\n",
       "<style scoped>\n",
       "    .dataframe tbody tr th:only-of-type {\n",
       "        vertical-align: middle;\n",
       "    }\n",
       "\n",
       "    .dataframe tbody tr th {\n",
       "        vertical-align: top;\n",
       "    }\n",
       "\n",
       "    .dataframe thead th {\n",
       "        text-align: right;\n",
       "    }\n",
       "</style>\n",
       "<table border=\"1\" class=\"dataframe\">\n",
       "  <thead>\n",
       "    <tr style=\"text-align: right;\">\n",
       "      <th></th>\n",
       "      <th>asin</th>\n",
       "      <th>title</th>\n",
       "      <th>category</th>\n",
       "    </tr>\n",
       "  </thead>\n",
       "  <tbody>\n",
       "    <tr>\n",
       "      <th>0</th>\n",
       "      <td>0001393774</td>\n",
       "      <td>Songs for the Shepherd</td>\n",
       "      <td>[CDs &amp; Vinyl, Christian]</td>\n",
       "    </tr>\n",
       "    <tr>\n",
       "      <th>5</th>\n",
       "      <td>0005164885</td>\n",
       "      <td>Christmas Eve and Other Stories</td>\n",
       "      <td>[CDs &amp; Vinyl, Holiday &amp; Wedding]</td>\n",
       "    </tr>\n",
       "    <tr>\n",
       "      <th>6</th>\n",
       "      <td>0005465079</td>\n",
       "      <td>Forgiven</td>\n",
       "      <td>[CDs &amp; Vinyl, Christian, Pop &amp; Contemporary]</td>\n",
       "    </tr>\n",
       "    <tr>\n",
       "      <th>9</th>\n",
       "      <td>000547745X</td>\n",
       "      <td>Acapella Hymns</td>\n",
       "      <td>[CDs &amp; Vinyl, Christian, Pop &amp; Contemporary]</td>\n",
       "    </tr>\n",
       "    <tr>\n",
       "      <th>13</th>\n",
       "      <td>0563494212</td>\n",
       "      <td>The Complete Hitchhiker's Guide to the Galaxy:...</td>\n",
       "      <td>[CDs &amp; Vinyl, Comedy &amp; Spoken Word, Spoken Word]</td>\n",
       "    </tr>\n",
       "  </tbody>\n",
       "</table>\n",
       "</div>"
      ],
      "text/plain": [
       "          asin                                              title  \\\n",
       "0   0001393774                             Songs for the Shepherd   \n",
       "5   0005164885                    Christmas Eve and Other Stories   \n",
       "6   0005465079                                           Forgiven   \n",
       "9   000547745X                                     Acapella Hymns   \n",
       "13  0563494212  The Complete Hitchhiker's Guide to the Galaxy:...   \n",
       "\n",
       "                                            category  \n",
       "0                           [CDs & Vinyl, Christian]  \n",
       "5                   [CDs & Vinyl, Holiday & Wedding]  \n",
       "6       [CDs & Vinyl, Christian, Pop & Contemporary]  \n",
       "9       [CDs & Vinyl, Christian, Pop & Contemporary]  \n",
       "13  [CDs & Vinyl, Comedy & Spoken Word, Spoken Word]  "
      ]
     },
     "execution_count": 23,
     "metadata": {},
     "output_type": "execute_result"
    }
   ],
   "source": [
    "import json\n",
    "\n",
    "# load the json metadata\n",
    "with open('./Amazon Review Data (2018)/meta_CDs_and_Vinyl.json') as f:\n",
    "    meta = [json.loads(line) for line in f]\n",
    "\n",
    "# convert into dataframe\n",
    "products = pd.DataFrame(meta)\n",
    "\n",
    "# keep only useful columns\n",
    "products = products[['asin', 'title', 'category']]\n",
    "# select only the products that are in the ratings dataframe:\n",
    "products = products[products['asin'].isin(ratings['asin'].unique())]\n",
    "products.head()\n"
   ]
  },
  {
   "cell_type": "code",
   "execution_count": 26,
   "metadata": {},
   "outputs": [],
   "source": [
    "products.to_csv('products.csv', index=False)"
   ]
  }
 ],
 "metadata": {
  "kernelspec": {
   "display_name": "base",
   "language": "python",
   "name": "python3"
  },
  "language_info": {
   "codemirror_mode": {
    "name": "ipython",
    "version": 3
   },
   "file_extension": ".py",
   "mimetype": "text/x-python",
   "name": "python",
   "nbconvert_exporter": "python",
   "pygments_lexer": "ipython3",
   "version": "3.11.5"
  }
 },
 "nbformat": 4,
 "nbformat_minor": 2
}
