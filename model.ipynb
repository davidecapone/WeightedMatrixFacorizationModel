{
 "cells": [
  {
   "cell_type": "code",
   "execution_count": 7,
   "metadata": {},
   "outputs": [
    {
     "name": "stdout",
     "output_type": "stream",
     "text": [
      "The autoreload extension is already loaded. To reload it, use:\n",
      "  %reload_ext autoreload\n"
     ]
    }
   ],
   "source": [
    "%load_ext autoreload\n",
    "%autoreload 2\n",
    "\n",
    "import numpy as np\n",
    "import pandas as pd\n",
    "import seaborn as sns\n",
    "import matplotlib.pyplot as plt\n",
    "from src.wmfact import WeightedMatrixFactorization"
   ]
  },
  {
   "cell_type": "markdown",
   "metadata": {},
   "source": [
    "## Data loading and preprocessing\n",
    "In this section, we load the rating and movie data from CSV files and preprocess it to create the feedback matrix."
   ]
  },
  {
   "cell_type": "code",
   "execution_count": 8,
   "metadata": {},
   "outputs": [
    {
     "name": "stdout",
     "output_type": "stream",
     "text": [
      "Ratings (100000, 3)\n",
      "Movies (1682, 2)\n"
     ]
    }
   ],
   "source": [
    "# Read data\n",
    "ratings = pd.read_csv('data/ratings.csv')\n",
    "movies = pd.read_csv('data/movies.csv')\n",
    "\n",
    "print(\"Ratings\", ratings.shape)\n",
    "print(\"Movies\", movies.shape)"
   ]
  },
  {
   "cell_type": "markdown",
   "metadata": {},
   "source": [
    "The ratings dataset includes three columns (user_id, movie_id, rating). Each row represents a single rating given by a user to a particular movie.\n",
    "The movies dataset, instead, contains information about the movies themselves (movie_id, title). Each row represents a single movie in the dataset."
   ]
  },
  {
   "cell_type": "markdown",
   "metadata": {},
   "source": [
    "### Creating the Feedback Matrix\n",
    "In this section, we create a feedback matrix from the ratings data. The feedback matrix represents the ratings given by users for different movies."
   ]
  },
  {
   "cell_type": "code",
   "execution_count": 9,
   "metadata": {},
   "outputs": [
    {
     "data": {
      "text/plain": [
       "array([[ 5.,  3.,  4., ..., nan, nan, nan],\n",
       "       [ 4., nan, nan, ..., nan, nan, nan],\n",
       "       [nan, nan, nan, ..., nan, nan, nan],\n",
       "       ...,\n",
       "       [ 5., nan, nan, ..., nan, nan, nan],\n",
       "       [nan, nan, nan, ..., nan, nan, nan],\n",
       "       [nan,  5., nan, ..., nan, nan, nan]])"
      ]
     },
     "metadata": {},
     "output_type": "display_data"
    },
    {
     "name": "stdout",
     "output_type": "stream",
     "text": [
      "feedbacks matrix shape:  (943, 1682)\n"
     ]
    }
   ],
   "source": [
    "feedbacks = ratings.pivot_table(values='rating', index=['user_id'], columns=['movie_id']).values\n",
    "display(feedbacks)\n",
    "print(\"feedbacks matrix shape: \", feedbacks.shape)\n",
    "\n",
    "# save the feedbacks matrix\n",
    "np.save('data/feedbacks.npy', feedbacks)"
   ]
  },
  {
   "cell_type": "markdown",
   "metadata": {},
   "source": [
    "## Weighted Matrix Factorization model\n",
    "\n",
    "The Weighted Matrix Factorization model aims to factorize the sparse feedback matrix into low-rank user and item matrices, capturing underlying patterns in the data to predict missing ratings. In this implementation, we utilize the Weighted Alternating Least Squares (WALS) algorithm, which iteratively updates user and item embeddings to minimize the reconstruction error of observed ratings, while applying regularization to prevent overfitting.\n",
    "\n",
    "- **n_iter**: The number of iterations for model fitting. Higher values may lead to better convergence but also increase computational cost.\n",
    "- **n_latents**: The number of latent factors. A higher number allows the model to capture more complex patterns but may also increase the risk of overfitting.\n",
    "- **lambda_reg**: The regularization parameter λ. It controls the extent of regularization applied to the model. Higher values of λ lead to stronger regularization.\n"
   ]
  },
  {
   "cell_type": "code",
   "execution_count": 10,
   "metadata": {},
   "outputs": [],
   "source": [
    "# define the model\n",
    "model = WeightedMatrixFactorization(feedbacks)"
   ]
  },
  {
   "cell_type": "markdown",
   "metadata": {},
   "source": [
    "### Param grid for tuning the hyperparameters\n",
    "In this section, we'll engage in hyperparameter tuning to identify the model that minimizes the loss function. It's important to note that the optimal approach for hyperparameter tuning involves partitioning the feedback matrix into training and test sets, and evaluating a chosen metric on the test set after each tuning iteration."
   ]
  },
  {
   "cell_type": "code",
   "execution_count": 11,
   "metadata": {},
   "outputs": [
    {
     "name": "stdout",
     "output_type": "stream",
     "text": [
      "* Fitting the model with wals method: n_iter = 9, n_latents = 100, lambda_reg = 0.01 *\n"
     ]
    },
    {
     "name": "stderr",
     "output_type": "stream",
     "text": [
      "100%|██████████| 9/9 [14:39<00:00, 97.68s/it, loss=3859.20]    \n"
     ]
    },
    {
     "name": "stdout",
     "output_type": "stream",
     "text": [
      "\n",
      "-> Model saved to models/wmf_wals_nlat100_niter9_lambdareg0.01_20240208154923.pkl\n",
      "-> History saved to models/wmf_wals_nlat100_niter9_lambdareg0.01_20240208154923.csv\n",
      "\n",
      "* Fitting the model with wals method: n_iter = 9, n_latents = 100, lambda_reg = 0.02 *\n"
     ]
    },
    {
     "name": "stderr",
     "output_type": "stream",
     "text": [
      "100%|██████████| 9/9 [13:17<00:00, 88.63s/it, loss=6183.91]  \n"
     ]
    },
    {
     "name": "stdout",
     "output_type": "stream",
     "text": [
      "\n",
      "-> Model saved to models/wmf_wals_nlat100_niter9_lambdareg0.02_20240208160241.pkl\n",
      "-> History saved to models/wmf_wals_nlat100_niter9_lambdareg0.02_20240208160241.csv\n",
      "\n",
      "* Fitting the model with wals method: n_iter = 13, n_latents = 100, lambda_reg = 0.01 *\n"
     ]
    },
    {
     "name": "stderr",
     "output_type": "stream",
     "text": [
      "100%|██████████| 13/13 [20:08<00:00, 92.96s/it, loss=3478.52]\n"
     ]
    },
    {
     "name": "stdout",
     "output_type": "stream",
     "text": [
      "\n",
      "-> Model saved to models/wmf_wals_nlat100_niter13_lambdareg0.01_20240208162249.pkl\n",
      "-> History saved to models/wmf_wals_nlat100_niter13_lambdareg0.01_20240208162249.csv\n",
      "\n",
      "* Fitting the model with wals method: n_iter = 13, n_latents = 100, lambda_reg = 0.02 *\n"
     ]
    },
    {
     "name": "stderr",
     "output_type": "stream",
     "text": [
      "100%|██████████| 13/13 [13:20<00:00, 61.57s/it, loss=5822.93]\n"
     ]
    },
    {
     "name": "stdout",
     "output_type": "stream",
     "text": [
      "\n",
      "-> Model saved to models/wmf_wals_nlat100_niter13_lambdareg0.02_20240208163610.pkl\n",
      "-> History saved to models/wmf_wals_nlat100_niter13_lambdareg0.02_20240208163610.csv\n",
      "\n",
      "* Fitting the model with wals method: n_iter = 17, n_latents = 100, lambda_reg = 0.01 *\n"
     ]
    },
    {
     "name": "stderr",
     "output_type": "stream",
     "text": [
      "100%|██████████| 17/17 [16:16<00:00, 57.41s/it, loss=3307.91]\n"
     ]
    },
    {
     "name": "stdout",
     "output_type": "stream",
     "text": [
      "\n",
      "-> Model saved to models/wmf_wals_nlat100_niter17_lambdareg0.01_20240208165226.pkl\n",
      "-> History saved to models/wmf_wals_nlat100_niter17_lambdareg0.01_20240208165226.csv\n",
      "\n",
      "* Fitting the model with wals method: n_iter = 17, n_latents = 100, lambda_reg = 0.02 *\n"
     ]
    },
    {
     "name": "stderr",
     "output_type": "stream",
     "text": [
      "100%|██████████| 17/17 [16:30<00:00, 58.24s/it, loss=5682.70]\n"
     ]
    },
    {
     "name": "stdout",
     "output_type": "stream",
     "text": [
      "\n",
      "-> Model saved to models/wmf_wals_nlat100_niter17_lambdareg0.02_20240208170856.pkl\n",
      "-> History saved to models/wmf_wals_nlat100_niter17_lambdareg0.02_20240208170856.csv\n",
      "\n",
      "* Fitting the model with wals method: n_iter = 9, n_latents = 150, lambda_reg = 0.01 *\n"
     ]
    },
    {
     "name": "stderr",
     "output_type": "stream",
     "text": [
      "100%|██████████| 9/9 [12:18<00:00, 82.03s/it, loss=1542.34] \n"
     ]
    },
    {
     "name": "stdout",
     "output_type": "stream",
     "text": [
      "\n",
      "-> Model saved to models/wmf_wals_nlat150_niter9_lambdareg0.01_20240208172114.pkl\n",
      "-> History saved to models/wmf_wals_nlat150_niter9_lambdareg0.01_20240208172114.csv\n",
      "\n",
      "* Fitting the model with wals method: n_iter = 9, n_latents = 150, lambda_reg = 0.02 *\n"
     ]
    },
    {
     "name": "stderr",
     "output_type": "stream",
     "text": [
      "100%|██████████| 9/9 [12:15<00:00, 81.72s/it, loss=3759.84] \n"
     ]
    },
    {
     "name": "stdout",
     "output_type": "stream",
     "text": [
      "\n",
      "-> Model saved to models/wmf_wals_nlat150_niter9_lambdareg0.02_20240208173330.pkl\n",
      "-> History saved to models/wmf_wals_nlat150_niter9_lambdareg0.02_20240208173330.csv\n",
      "\n",
      "* Fitting the model with wals method: n_iter = 13, n_latents = 150, lambda_reg = 0.01 *\n"
     ]
    },
    {
     "name": "stderr",
     "output_type": "stream",
     "text": [
      "100%|██████████| 13/13 [17:13<00:00, 79.50s/it, loss=1427.64]\n"
     ]
    },
    {
     "name": "stdout",
     "output_type": "stream",
     "text": [
      "\n",
      "-> Model saved to models/wmf_wals_nlat150_niter13_lambdareg0.01_20240208175043.pkl\n",
      "-> History saved to models/wmf_wals_nlat150_niter13_lambdareg0.01_20240208175043.csv\n",
      "\n",
      "* Fitting the model with wals method: n_iter = 13, n_latents = 150, lambda_reg = 0.02 *\n"
     ]
    },
    {
     "name": "stderr",
     "output_type": "stream",
     "text": [
      "100%|██████████| 13/13 [16:17:03<00:00, 4509.46s/it, loss=3641.05]     \n"
     ]
    },
    {
     "name": "stdout",
     "output_type": "stream",
     "text": [
      "\n",
      "-> Model saved to models/wmf_wals_nlat150_niter13_lambdareg0.02_20240209100746.pkl\n",
      "-> History saved to models/wmf_wals_nlat150_niter13_lambdareg0.02_20240209100746.csv\n",
      "\n",
      "* Fitting the model with wals method: n_iter = 17, n_latents = 150, lambda_reg = 0.01 *\n"
     ]
    },
    {
     "name": "stderr",
     "output_type": "stream",
     "text": [
      "100%|██████████| 17/17 [21:30<00:00, 75.93s/it, loss=1385.02]\n"
     ]
    },
    {
     "name": "stdout",
     "output_type": "stream",
     "text": [
      "\n",
      "-> Model saved to models/wmf_wals_nlat150_niter17_lambdareg0.01_20240209102917.pkl\n",
      "-> History saved to models/wmf_wals_nlat150_niter17_lambdareg0.01_20240209102917.csv\n",
      "\n",
      "* Fitting the model with wals method: n_iter = 17, n_latents = 150, lambda_reg = 0.02 *\n"
     ]
    },
    {
     "name": "stderr",
     "output_type": "stream",
     "text": [
      "100%|██████████| 17/17 [23:32<00:00, 83.08s/it, loss=3590.64]\n"
     ]
    },
    {
     "name": "stdout",
     "output_type": "stream",
     "text": [
      "\n",
      "-> Model saved to models/wmf_wals_nlat150_niter17_lambdareg0.02_20240209105249.pkl\n",
      "-> History saved to models/wmf_wals_nlat150_niter17_lambdareg0.02_20240209105249.csv\n",
      "\n",
      "* Fitting the model with wals method: n_iter = 9, n_latents = 250, lambda_reg = 0.01 *\n"
     ]
    },
    {
     "name": "stderr",
     "output_type": "stream",
     "text": [
      "100%|██████████| 9/9 [5:51:35<00:00, 2343.96s/it, loss=1889.34]    \n"
     ]
    },
    {
     "name": "stdout",
     "output_type": "stream",
     "text": [
      "\n",
      "-> Model saved to models/wmf_wals_nlat250_niter9_lambdareg0.01_20240209164425.pkl\n",
      "-> History saved to models/wmf_wals_nlat250_niter9_lambdareg0.01_20240209164425.csv\n",
      "\n",
      "* Fitting the model with wals method: n_iter = 9, n_latents = 250, lambda_reg = 0.02 *\n"
     ]
    },
    {
     "name": "stderr",
     "output_type": "stream",
     "text": [
      "100%|██████████| 9/9 [24:02<00:00, 160.30s/it, loss=3047.21]    \n"
     ]
    },
    {
     "name": "stdout",
     "output_type": "stream",
     "text": [
      "\n",
      "-> Model saved to models/wmf_wals_nlat250_niter9_lambdareg0.02_20240209170828.pkl\n",
      "-> History saved to models/wmf_wals_nlat250_niter9_lambdareg0.02_20240209170828.csv\n",
      "\n",
      "* Fitting the model with wals method: n_iter = 13, n_latents = 250, lambda_reg = 0.01 *\n"
     ]
    },
    {
     "name": "stderr",
     "output_type": "stream",
     "text": [
      "100%|██████████| 13/13 [30:32<00:00, 140.98s/it, loss=830.81] \n"
     ]
    },
    {
     "name": "stdout",
     "output_type": "stream",
     "text": [
      "\n",
      "-> Model saved to models/wmf_wals_nlat250_niter13_lambdareg0.01_20240209173901.pkl\n",
      "-> History saved to models/wmf_wals_nlat250_niter13_lambdareg0.01_20240209173901.csv\n",
      "\n",
      "* Fitting the model with wals method: n_iter = 13, n_latents = 250, lambda_reg = 0.02 *\n"
     ]
    },
    {
     "name": "stderr",
     "output_type": "stream",
     "text": [
      "100%|██████████| 13/13 [38:55<00:00, 179.68s/it, loss=3047.36]\n"
     ]
    },
    {
     "name": "stdout",
     "output_type": "stream",
     "text": [
      "\n",
      "-> Model saved to models/wmf_wals_nlat250_niter13_lambdareg0.02_20240209181757.pkl\n",
      "-> History saved to models/wmf_wals_nlat250_niter13_lambdareg0.02_20240209181757.csv\n",
      "\n",
      "* Fitting the model with wals method: n_iter = 17, n_latents = 250, lambda_reg = 0.01 *\n"
     ]
    },
    {
     "name": "stderr",
     "output_type": "stream",
     "text": [
      "100%|██████████| 17/17 [47:39<00:00, 168.18s/it, loss=829.75] \n"
     ]
    },
    {
     "name": "stdout",
     "output_type": "stream",
     "text": [
      "\n",
      "-> Model saved to models/wmf_wals_nlat250_niter17_lambdareg0.01_20240209190536.pkl\n",
      "-> History saved to models/wmf_wals_nlat250_niter17_lambdareg0.01_20240209190536.csv\n",
      "\n",
      "* Fitting the model with wals method: n_iter = 17, n_latents = 250, lambda_reg = 0.02 *\n"
     ]
    },
    {
     "name": "stderr",
     "output_type": "stream",
     "text": [
      " 35%|███▌      | 6/17 [13:19<24:34, 134.08s/it, loss=3086.81] "
     ]
    }
   ],
   "source": [
    "param_grid = {\n",
    "    'n_iter': [9, 13, 17],\n",
    "    'n_latents': [100, 150, 250],\n",
    "    'lambda_reg': [0.01, 0.02]\n",
    "}\n",
    "\n",
    "best_params, best_hist = model.grid_search(param_grid, seed=42)\n",
    "\n",
    "print(\"Best params: \", best_params)\n",
    "print(\"Best hist: \", best_hist)"
   ]
  },
  {
   "cell_type": "code",
   "execution_count": null,
   "metadata": {},
   "outputs": [],
   "source": [
    "# load the best model\n",
    "model = WeightedMatrixFactorization.load('data/best_model.pkl')"
   ]
  },
  {
   "cell_type": "markdown",
   "metadata": {},
   "source": [
    "### Model evaluation"
   ]
  },
  {
   "cell_type": "code",
   "execution_count": 48,
   "metadata": {},
   "outputs": [
    {
     "data": {
      "image/png": "[encoded data removed]",
      "text/plain": [
       "<Figure size 870x627 with 1 Axes>"
      ]
     },
     "metadata": {},
     "output_type": "display_data"
    }
   ],
   "source": [
    "# plot loss from history:\n",
    "sns.set(rc={'figure.figsize':(8.7,6.27)})\n",
    "sns.set_context('paper', font_scale=1.3, rc={\"lines.linewidth\": 2.3})\n",
    "lists = sorted(history.items())\n",
    "x, y = zip(*lists)\n",
    "sns.lineplot(\n",
    "  x=list(history.keys()), \n",
    "  y=list(history.values())\n",
    ")\n",
    "plt.xlabel(\"Iterations\")\n",
    "plt.ylabel(\"Loss\")\n",
    "plt.title(\"Loss for WALS\")\n",
    "plt.show()"
   ]
  },
  {
   "cell_type": "code",
   "execution_count": 58,
   "metadata": {},
   "outputs": [
    {
     "name": "stdout",
     "output_type": "stream",
     "text": [
      "Real rating:  3.0\n",
      "Predicted rating:  2.9112247611069817\n"
     ]
    }
   ],
   "source": [
    "preds = model.predict_all()\n",
    "\n",
    "user_id = 13\n",
    "movie_id = 17\n",
    "\n",
    "print(\"Real rating: \", feedbacks[user_id, movie_id])\n",
    "print(\"Predicted rating: \", preds[user_id, movie_id])"
   ]
  }
 ],
 "metadata": {
  "kernelspec": {
   "display_name": "base",
   "language": "python",
   "name": "python3"
  },
  "language_info": {
   "codemirror_mode": {
    "name": "ipython",
    "version": 3
   },
   "file_extension": ".py",
   "mimetype": "text/x-python",
   "name": "python",
   "nbconvert_exporter": "python",
   "pygments_lexer": "ipython3",
   "version": "3.10.9"
  }
 },
 "nbformat": 4,
 "nbformat_minor": 2
}
